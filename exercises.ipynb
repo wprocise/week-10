{
 "cells": [
  {
   "cell_type": "markdown",
   "id": "e3aad6c5",
   "metadata": {},
   "source": [
    "<font color='darkred'>Unless otherwise noted, **this notebook will not be reviewed or autograded.**</font> You are welcome to use it for scratchwork, but **only the files listed in the exercises will be checked.**\n",
    "\n",
    "---\n",
    "\n",
    "# Exercises\n",
    "\n",
    "For these exercises, you'll need to update the *apputil\\.py* file and the *app\\.py* file."
   ]
  },
  {
   "cell_type": "markdown",
   "id": "a31fe569",
   "metadata": {},
   "source": [
    "## Exercise 1\n",
    "\n",
    "Recall the [simple streamlit app](https://github.com/leontoddjohnson/simple_streamlit) and the [coffee analysis data](https://raw.githubusercontent.com/leontoddjohnson/datasets/refs/heads/main/data/coffee_analysis.csv) used.\n",
    "\n",
    "Write a Python script called `train.py` that does the following:\n",
    "\n",
    "- Loads the [coffee analysis data](https://raw.githubusercontent.com/leontoddjohnson/datasets/refs/heads/main/data/coffee_analysis.csv) (from the URL).\n",
    "- Trains a (Scikit-Learn) linear regression model to predict `rating` based on the single feature `100g_USD`.\n",
    "- Saves the trained model in this repository as a pickle file called `model_1.pickle`.\n",
    "\n",
    "## Exercise 2\n",
    "\n",
    "Update the script to train a **Decision Tree Regressor** model that predicts `rating` based on *both* `100g_USD` and `roast`, and saves the trained model as `model_2.pickle`. Notice that the `roast` column is categorical, so you'll need to convert it into a numerical label format:\n",
    "\n",
    "- Create a dictionary that maps *all* categories to a number (e.g., `roast_cat['Medium-Light'] = 1`).\n",
    "- Use `.map` or `.apply` (in pandas) to create a numerical column to train your model.\n",
    "- Save the dictionary along with this process for next exercise.\n",
    "\n",
    "*Note: **Do not worry about model performance**, but interestingly, tree-based models like this tend to perform more efficiently with category labels instead of than one-hot encoded features.*\n",
    "\n",
    "## Exercise 3\n",
    "\n",
    "Update the *apputil\\.py* file to include a `predict_rating(df_X)` function that takes in a two-column dataframe, `df_X`, with columns `100g_USD` (numerical) and `roast` (in original text form), and returns an array containing corresponding predicted `rating` values. If a `roast` value is not one of the roast values in the training data, the function should only use the `100g_USD` value to make the prediction (recall `model_1.pickle`). Otherwise, it should use both features."
   ]
  },
  {
   "cell_type": "code",
   "execution_count": 8,
   "id": "6c03c516",
   "metadata": {},
   "outputs": [
    {
     "name": "stdout",
     "output_type": "stream",
     "text": [
      "Linear Regression model trained and saved as 'model_1.pickle\n"
     ]
    }
   ],
   "source": [
    "# Exercise 1: Write a python script called 'train.py' that loads coffee analysis data from a CSV file, trains a scikit-learn linear regression model to predict 'rating' based on the single feature '100g_USD', and saves the trained model in this repository as a pickle file called 'model_1.pickle'.\n",
    "import pandas as pd\n",
    "from sklearn.model_selection import train_test_split\n",
    "from sklearn.linear_model import LinearRegression\n",
    "import pickle\n",
    "\n",
    "# 1) Load the coffee analysis data from a CSV file\n",
    "data = pd.read_csv(\"https://raw.githubusercontent.com/leontoddjohnson/datasets/refs/heads/main/data/coffee_analysis.csv\")\n",
    "\n",
    "# 2) Train a scikit-learn linear regression model to predict 'rating' based on the single feature '100g_USD'\n",
    "\"\"\"Split the data into training and testing sets with 80:20 ratio.\n",
    "    linear regression model predicts 'rating' based on '100g USD' feature.\n",
    "\"\"\"\n",
    "df_train, df_test = train_test_split(data, test_size=0.2)\n",
    "features = ['100g_USD']\n",
    "X_train = df_train[features]\n",
    "y_train = df_train['rating']\n",
    "lm = LinearRegression()\n",
    "lm.fit(X_train.values, y_train.values)\n",
    "\n",
    "# 3) Save the trained model in this repository as a pickle file called 'model_1.pickle'\n",
    "\"\"\"Save the trained model in this repository as a pickle file called 'model_1.pickle'.\"\"\"\n",
    "with open('model_1.pickle', 'wb') as f:\n",
    "    pickle.dump(lm, f)\n",
    "\n",
    "print(\"Linear Regression model trained and saved as 'model_1.pickle\")"
   ]
  },
  {
   "cell_type": "code",
   "execution_count": 7,
   "id": "749254d5",
   "metadata": {},
   "outputs": [
    {
     "name": "stdout",
     "output_type": "stream",
     "text": [
      "Decision Tree Model trained and saved as 'model_2.pickle\n"
     ]
    }
   ],
   "source": [
    "# Exercise 2: Update the script to train a Decision Tree Regressor model that predicts 'rating' based on both '100g_USD' and 'roast', and saves the trained model as 'model_2.pickle'.\n",
    "# Notice: The 'roast' column is categorical, so it is necessary to convert it into a numerical label format.\n",
    "from sklearn.tree import DecisionTreeRegressor\n",
    "\"\"\"\n",
    "Create a dictionary that maps all categories to a number(e.g., 'roast_cat['Medium-Light'] = 1).\n",
    "Use '.map' or '.apply' (in pandas) to create a numerical column to train model.\n",
    "Save the dictionary along with this process for next exercise.\n",
    "\"\"\"\n",
    "# 1) Encode the categorical 'roast' column into numerical labels\n",
    "roast_cat = {cat: idx for idx, cat in enumerate(data['roast'].unique())}\n",
    "data['roast_num'] = data['roast'].map(roast_cat)\n",
    "\n",
    "# 2) Prepare features and target\n",
    "features = ['100g_USD', 'roast_num']\n",
    "X = data[features]\n",
    "y = data['rating']\n",
    "\n",
    "# 3) Split the data into training and testing sets\n",
    "X_train, X_test, y_train, y_test = train_test_split(X, y, test_size=0.2, random_state=42)\n",
    "\n",
    "dt = DecisionTreeRegressor(random_state=42)\n",
    "dt.fit(X_train, y_train)\n",
    "\n",
    "\"\"\"Save trained model as 'model_2.pickle'.\"\"\"\n",
    "with open('model_2.pickle', 'wb') as f:\n",
    "    pickle.dump(dt, f)\n",
    "\n",
    "print(\"Decision Tree Model trained and saved as 'model_2.pickle\")"
   ]
  },
  {
   "cell_type": "code",
   "execution_count": 9,
   "id": "a6db8908",
   "metadata": {},
   "outputs": [
    {
     "ename": "ImportError",
     "evalue": "cannot import name 'predict_rating' from 'apputil' (/Users/woodsprocise/Documents/IU Indy - Fall '25/Code Space Projects /week-10/apputil.py)",
     "output_type": "error",
     "traceback": [
      "\u001b[31m---------------------------------------------------------------------------\u001b[39m",
      "\u001b[31mImportError\u001b[39m                               Traceback (most recent call last)",
      "\u001b[36mCell\u001b[39m\u001b[36m \u001b[39m\u001b[32mIn[9]\u001b[39m\u001b[32m, line 2\u001b[39m\n\u001b[32m      1\u001b[39m \u001b[38;5;28;01mimport\u001b[39;00m\u001b[38;5;250m \u001b[39m\u001b[34;01mpandas\u001b[39;00m\u001b[38;5;250m \u001b[39m\u001b[38;5;28;01mas\u001b[39;00m\u001b[38;5;250m \u001b[39m\u001b[34;01mpd\u001b[39;00m\n\u001b[32m----> \u001b[39m\u001b[32m2\u001b[39m \u001b[38;5;28;01mfrom\u001b[39;00m\u001b[38;5;250m \u001b[39m\u001b[34;01mapputil\u001b[39;00m\u001b[38;5;250m \u001b[39m\u001b[38;5;28;01mimport\u001b[39;00m predict_rating\n\u001b[32m      4\u001b[39m df_X = pd.DataFrame([\n\u001b[32m      5\u001b[39m     [\u001b[32m10.00\u001b[39m, \u001b[33m\"\u001b[39m\u001b[33mDark\u001b[39m\u001b[33m\"\u001b[39m],\n\u001b[32m      6\u001b[39m     [\u001b[32m15.00\u001b[39m, \u001b[33m\"\u001b[39m\u001b[33mVery Light\u001b[39m\u001b[33m\"\u001b[39m]], \n\u001b[32m      7\u001b[39m     columns=[\u001b[33m\"\u001b[39m\u001b[33m100g_USD\u001b[39m\u001b[33m\"\u001b[39m, \u001b[33m\"\u001b[39m\u001b[33mroast\u001b[39m\u001b[33m\"\u001b[39m])\n\u001b[32m      8\u001b[39m y_pred = predict_rating(df_X)\n",
      "\u001b[31mImportError\u001b[39m: cannot import name 'predict_rating' from 'apputil' (/Users/woodsprocise/Documents/IU Indy - Fall '25/Code Space Projects /week-10/apputil.py)"
     ]
    }
   ],
   "source": [
    "import pandas as pd\n",
    "from apputil import predict_rating\n",
    "\n",
    "df_X = pd.DataFrame([\n",
    "    [10.00, \"Dark\"],\n",
    "    [15.00, \"Very Light\"]], \n",
    "    columns=[\"100g_USD\", \"roast\"])\n",
    "y_pred = predict_rating(df_X)\n",
    "y_pred"
   ]
  },
  {
   "cell_type": "markdown",
   "id": "71e25da7",
   "metadata": {},
   "source": [
    "## (Optional) Bonus Exercise\n",
    "\n",
    "Vectorize the `desc_3` column in the coffee analysis data using TF-IDF vectorization. Train a linear regression model to predict `rating` based only on the vectorized text data, and save the trained model as `model_3.pickle`.\n",
    "\n",
    "Adjust your `predict_rating(X, text=True)` function where the `text` argument indicates that `X` is an array of strings of text (in the style of the reviews in `desc_3`). Update the function so that when `text=True`, it returns predicted ratings based on the text.\n",
    "\n",
    "Note: you'll need to figure out what to do when the input text contains words that were not in the training data!"
   ]
  },
  {
   "cell_type": "code",
   "execution_count": null,
   "id": "04b35922",
   "metadata": {},
   "outputs": [],
   "source": [
    "X = pd.DataFrame([\n",
    "    \"A delightfull coffee with hints of chocolate and caramel.\",\n",
    "    \"A strong coffee with a bold flavor and a smoky finish.\"], \n",
    "    columns=[\"text\"])\n",
    "y = predict_rating(X, text=True)\n",
    "y"
   ]
  }
 ],
 "metadata": {
  "kernelspec": {
   "display_name": "h501-week-10",
   "language": "python",
   "name": "python3"
  },
  "language_info": {
   "codemirror_mode": {
    "name": "ipython",
    "version": 3
   },
   "file_extension": ".py",
   "mimetype": "text/x-python",
   "name": "python",
   "nbconvert_exporter": "python",
   "pygments_lexer": "ipython3",
   "version": "3.11.14"
  }
 },
 "nbformat": 4,
 "nbformat_minor": 5
}
