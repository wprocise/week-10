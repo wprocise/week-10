{
 "cells": [
  {
   "cell_type": "markdown",
   "id": "e3aad6c5",
   "metadata": {},
   "source": [
    "<font color='darkred'>Unless otherwise noted, **this notebook will not be reviewed or autograded.**</font> You are welcome to use it for scratchwork, but **only the files listed in the exercises will be checked.**\n",
    "\n",
    "---\n",
    "\n",
    "# Exercises\n",
    "\n",
    "For these exercises, you'll need to update the *apputil\\.py* file and the *app\\.py* file."
   ]
  },
  {
   "cell_type": "markdown",
   "id": "a31fe569",
   "metadata": {},
   "source": [
    "## Exercise 1\n",
    "\n",
    "Recall the [simple streamlit app](https://github.com/leontoddjohnson/simple_streamlit) and the [coffee analysis data](https://raw.githubusercontent.com/leontoddjohnson/datasets/refs/heads/main/data/coffee_analysis.csv) used.\n",
    "\n",
    "Write a Python script called `train.py` that does the following:\n",
    "\n",
    "- Loads the [coffee analysis data](https://raw.githubusercontent.com/leontoddjohnson/datasets/refs/heads/main/data/coffee_analysis.csv) (from the URL).\n",
    "- Trains a (Scikit-Learn) linear regression model to predict `rating` based on the single feature `100g_USD`.\n",
    "- Saves the trained model in this repository as a pickle file called `model_1.pickle`.\n",
    "\n",
    "## Exercise 2\n",
    "\n",
    "Update the script to train a **Decision Tree Regressor** model that predicts `rating` based on *both* `100g_USD` and `roast`, and saves the trained model as `model_2.pickle`. Notice that the `roast` column is categorical, so you'll need to convert it into a numerical label format:\n",
    "\n",
    "- Create a dictionary that maps *all* categories to a number (e.g., `roast_cat['Medium-Light'] = 1`).\n",
    "- Use `.map` or `.apply` (in pandas) to create a numerical column to train your model.\n",
    "- Save the dictionary along with this process for next exercise.\n",
    "\n",
    "*Note: **Do not worry about model performance**, but interestingly, tree-based models like this tend to perform more efficiently with category labels instead of than one-hot encoded features.*\n",
    "\n",
    "## Exercise 3\n",
    "\n",
    "Update the *apputil\\.py* file to include a `predict_rating(df_X)` function that takes in a two-column dataframe, `df_X`, with columns `100g_USD` (numerical) and `roast` (in original text form), and returns an array containing corresponding predicted `rating` values. If a `roast` value is not one of the roast values in the training data, the function should only use the `100g_USD` value to make the prediction (recall `model_1.pickle`). Otherwise, it should use both features."
   ]
  },
  {
   "cell_type": "code",
   "execution_count": 9,
   "id": "6c03c516",
   "metadata": {},
   "outputs": [],
   "source": [
    "# Exercise 1: Write a python script called 'train.py' that loads coffee analysis data from a CSV file, trains a scikit-learn linear regression model to predict 'rating' based on the single feature '100g_USD', and saves the trained model in this repository as a pickle file called 'model_1.pickle'.\n",
    "import pandas as pd\n",
    "from sklearn.model_selection import train_test_split\n",
    "from sklearn.linear_model import LinearRegression\n",
    "import pickle\n",
    "\n",
    "# 1) Load the coffee analysis data from a CSV file\n",
    "data = pd.read_csv(\"https://raw.githubusercontent.com/leontoddjohnson/datasets/refs/heads/main/data/coffee_analysis.csv\")\n",
    "\n",
    "# 2) Train a scikit-learn linear regression model to predict 'rating' based on the single feature '100g_USD'\n",
    "\"\"\"Split the data into training and testing sets with 80:20 ratio.\n",
    "    linear regression model predicts 'rating' based on '100g USD' feature.\n",
    "\"\"\"\n",
    "df_train, df_test = train_test_split(data, test_size=0.2)\n",
    "features = ['100g_USD']\n",
    "X_train = df_train[features]\n",
    "y_train = df_train['rating']\n",
    "lm = LinearRegression()\n",
    "lm.fit(X_train.values, y_train.values)\n",
    "\n",
    "# 3) Save the trained model in this repository as a pickle file called 'model_1.pickle'\n",
    "\"\"\"Save the trained model in this repository as a pickle file called 'model_1.pickle'.\"\"\"\n",
    "with open('model_1.pickle', 'wb') as f:\n",
    "    pickle.dump(lm, f)"
   ]
  },
  {
   "cell_type": "code",
   "execution_count": null,
   "id": "a6db8908",
   "metadata": {},
   "outputs": [],
   "source": [
    "import pandas as pd\n",
    "from apputil import predict_rating\n",
    "\n",
    "df_X = pd.DataFrame([\n",
    "    [10.00, \"Dark\"],\n",
    "    [15.00, \"Very Light\"]], \n",
    "    columns=[\"100g_USD\", \"roast\"])\n",
    "y_pred = predict_rating(df_X)\n",
    "y_pred"
   ]
  },
  {
   "cell_type": "markdown",
   "id": "71e25da7",
   "metadata": {},
   "source": [
    "## (Optional) Bonus Exercise\n",
    "\n",
    "Vectorize the `desc_3` column in the coffee analysis data using TF-IDF vectorization. Train a linear regression model to predict `rating` based only on the vectorized text data, and save the trained model as `model_3.pickle`.\n",
    "\n",
    "Adjust your `predict_rating(X, text=True)` function where the `text` argument indicates that `X` is an array of strings of text (in the style of the reviews in `desc_3`). Update the function so that when `text=True`, it returns predicted ratings based on the text.\n",
    "\n",
    "Note: you'll need to figure out what to do when the input text contains words that were not in the training data!"
   ]
  },
  {
   "cell_type": "code",
   "execution_count": null,
   "id": "04b35922",
   "metadata": {},
   "outputs": [],
   "source": [
    "X = pd.DataFrame([\n",
    "    \"A delightfull coffee with hints of chocolate and caramel.\",\n",
    "    \"A strong coffee with a bold flavor and a smoky finish.\"], \n",
    "    columns=[\"text\"])\n",
    "y = predict_rating(X, text=True)\n",
    "y"
   ]
  }
 ],
 "metadata": {
  "kernelspec": {
   "display_name": "h501-week-10",
   "language": "python",
   "name": "python3"
  },
  "language_info": {
   "codemirror_mode": {
    "name": "ipython",
    "version": 3
   },
   "file_extension": ".py",
   "mimetype": "text/x-python",
   "name": "python",
   "nbconvert_exporter": "python",
   "pygments_lexer": "ipython3",
   "version": "3.11.14"
  }
 },
 "nbformat": 4,
 "nbformat_minor": 5
}
